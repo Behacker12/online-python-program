{
 "cells": [
  {
   "cell_type": "code",
   "execution_count": 90,
   "id": "82f1808e",
   "metadata": {},
   "outputs": [
    {
     "name": "stdout",
     "output_type": "stream",
     "text": [
      "Twinkle, twinkle, little star, \n",
      " \t How i wonder what you are! \n",
      " \t \t Up above the world so high, \n",
      " \t \t Like a dimond in the sky. \n",
      " Twinkle, twinkle, little star, \n",
      " \t \t How I wonder what you are\n"
     ]
    }
   ],
   "source": [
    "# Twinkle Twinkle (poem)\n",
    "print(\"Twinkle, twinkle, little star, \\n \\t How i wonder what you are! \\n \\t \\t Up above the world so high, \\n \\t \\t Like a dimond in the sky. \\n Twinkle, twinkle, little star, \\n \\t \\t How I wonder what you are\")"
   ]
  },
  {
   "cell_type": "code",
   "execution_count": 89,
   "id": "32def458",
   "metadata": {},
   "outputs": [
    {
     "name": "stdout",
     "output_type": "stream",
     "text": [
      "system version\n",
      "3.9.7 (default, Sep 16 2021, 16:59:28) [MSC v.1916 64 bit (AMD64)]\n",
      "python version info\n",
      "sys.version_info(major=3, minor=9, micro=7, releaselevel='final', serial=0)\n"
     ]
    }
   ],
   "source": [
    "# To find current python version\n",
    "import sys\n",
    "print(\"system version\")\n",
    "print(sys.version)\n",
    "print(\"python version info\")\n",
    "print(sys.version_info)"
   ]
  },
  {
   "cell_type": "code",
   "execution_count": 178,
   "id": "9ed37a8b",
   "metadata": {},
   "outputs": [
    {
     "name": "stdout",
     "output_type": "stream",
     "text": [
      "Current Date is : 22-01-01 \n",
      "Current Time is : 00:57:53\n"
     ]
    }
   ],
   "source": [
    "# To find current date and time\n",
    "import datetime\n",
    "now = datetime.datetime.now()\n",
    "print(now.strftime(\"Current Date is : %y-%m-%d \\nCurrent Time is : %H:%M:%S\"))"
   ]
  },
  {
   "cell_type": "code",
   "execution_count": 179,
   "id": "0c43633e",
   "metadata": {},
   "outputs": [
    {
     "name": "stdout",
     "output_type": "stream",
     "text": [
      "Enter value of radius : 2\n",
      "\n",
      "Area of circle is :  30775.140000000003\n"
     ]
    }
   ],
   "source": [
    "# Find area of circle\n",
    "import math\n",
    "radius = float(input(\"Enter value of radius : \"))\n",
    "area = pi*r*r\n",
    "print(\"\\nArea of circle is : \",area)"
   ]
  },
  {
   "cell_type": "code",
   "execution_count": 166,
   "id": "b1e909b7",
   "metadata": {},
   "outputs": [
    {
     "name": "stdout",
     "output_type": "stream",
     "text": [
      "Enter first name : Muhammad\n",
      "Enter last name : Awais\n",
      "User name is : Awais Muhammad\n"
     ]
    }
   ],
   "source": [
    "# To get input a user name in reverse\n",
    "str1 = \"Enter first name : \";\n",
    "str2 = \"Enter last name : \";\n",
    "Firstname = input(str1);\n",
    "Lastname = input(str2);\n",
    "username = Lastname+\" \"+Firstname;\n",
    "print(\"User name is :\", username);\n",
    "\n"
   ]
  },
  {
   "cell_type": "code",
   "execution_count": 174,
   "id": "b389fd11",
   "metadata": {},
   "outputs": [
    {
     "name": "stdout",
     "output_type": "stream",
     "text": [
      "Enter first number : 121\n",
      "Enter last number : 44\n",
      "Your result is :  165\n"
     ]
    }
   ],
   "source": [
    "# To add two numbers which took by user\n",
    "num1 = int(input(\"Enter first number : \"));\n",
    "num2 = int(input(\"Enter last number : \" ));\n",
    "addition = num1 + num2;\n",
    "print(\"Your result is : \",addition)\n"
   ]
  },
  {
   "cell_type": "code",
   "execution_count": 180,
   "id": "b65a884d",
   "metadata": {},
   "outputs": [
    {
     "name": "stdout",
     "output_type": "stream",
     "text": [
      "HP\n"
     ]
    }
   ],
   "source": [
    "# To get current user\n",
    "import getpass\n",
    "print(getpass.getuser())"
   ]
  },
  {
   "cell_type": "code",
   "execution_count": null,
   "id": "491a39ec",
   "metadata": {},
   "outputs": [],
   "source": []
  },
  {
   "cell_type": "code",
   "execution_count": null,
   "id": "270558bd",
   "metadata": {},
   "outputs": [],
   "source": []
  }
 ],
 "metadata": {
  "kernelspec": {
   "display_name": "Python 3 (ipykernel)",
   "language": "python",
   "name": "python3"
  },
  "language_info": {
   "codemirror_mode": {
    "name": "ipython",
    "version": 3
   },
   "file_extension": ".py",
   "mimetype": "text/x-python",
   "name": "python",
   "nbconvert_exporter": "python",
   "pygments_lexer": "ipython3",
   "version": "3.9.7"
  }
 },
 "nbformat": 4,
 "nbformat_minor": 5
}
